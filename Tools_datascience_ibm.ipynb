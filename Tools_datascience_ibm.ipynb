{
  "metadata": {
    "language_info": {
      "codemirror_mode": {
        "name": "python",
        "version": 3
      },
      "file_extension": ".py",
      "mimetype": "text/x-python",
      "name": "python",
      "nbconvert_exporter": "python",
      "pygments_lexer": "ipython3",
      "version": "3.8"
    },
    "kernelspec": {
      "name": "python",
      "display_name": "Python (Pyodide)",
      "language": "python"
    }
  },
  "nbformat_minor": 4,
  "nbformat": 4,
  "cells": [
    {
      "cell_type": "markdown",
      "source": "Tools for Data Science Final - Vedanta",
      "metadata": {}
    },
    {
      "cell_type": "markdown",
      "source": "Introduction - In this JupterLite notebook we will cover all the things we learned in the course, applying it in this notebook\nand then uploading it on github.",
      "metadata": {}
    },
    {
      "cell_type": "markdown",
      "source": "Data Science Languages:\n\n1) Python\n2) R\n3) SQL\n4) Scala\n5) Matlab\n6) Julia",
      "metadata": {}
    },
    {
      "cell_type": "markdown",
      "source": "Data Science Libraries:\n\n1) Pandas\n2) NumPy\n3) Matplotlib\n4) Scikit-learn\n5) PyTorch\n6) TensorFlow",
      "metadata": {}
    },
    {
      "cell_type": "markdown",
      "source": "Data Science Tools:\n\n1) Jupyter Notebook/Lab\n2) Google Colab\n3) RStudio\n4) MySQL, SQLite\n5) Tableau\n6) TensorFlow\n7) Git/GitHub",
      "metadata": {}
    },
    {
      "cell_type": "markdown",
      "source": "Arithmetic Expression Examples:\n\n1. Addition: 2 + 3\n   Result: 5\n2. Subtraction: 8 - 4\n   Result: 4\n3. Multiplication: 5 * 6\n   Result: 30\n4. Division: 10 / 2\n   Result: 5\n5. Exponentiation: 2 ** 3\n   Result: 8 (2 raised to the power of 3)\n6. Modulo: 17 % 5\n   Result: 2 (remainder of the division 17 by 5)\n7. Order of Operations: (4 + 3) * 2 - 6 / 3\n   Result: 12 (first, the addition inside parentheses is performed, then multiplication, and finally, division and subtraction)\n",
      "metadata": {}
    },
    {
      "cell_type": "code",
      "source": "x=5\ny=10\nsum = x+y\nmult = x*y\n\nprint(sum)\nprint(mult)",
      "metadata": {
        "trusted": true
      },
      "execution_count": 1,
      "outputs": [
        {
          "name": "stdout",
          "text": "15\n50\n",
          "output_type": "stream"
        }
      ]
    },
    {
      "cell_type": "code",
      "source": "minutes = 120\nhours = minutes/60\nprint(hours)",
      "metadata": {
        "trusted": true
      },
      "execution_count": 2,
      "outputs": [
        {
          "name": "stdout",
          "text": "2.0\n",
          "output_type": "stream"
        }
      ]
    },
    {
      "cell_type": "markdown",
      "source": "Objectives:\n\n- We learned how to write information in markdown cells\n- We learned different data science tools, languages and libraries\n- We executed basic Python code to add, multiply and convert minutes to hours",
      "metadata": {}
    },
    {
      "cell_type": "markdown",
      "source": "Author's Name - Vedanta Yadav",
      "metadata": {}
    }
  ]
}